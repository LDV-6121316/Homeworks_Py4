{
 "cells": [
  {
   "cell_type": "code",
   "execution_count": 1,
   "metadata": {},
   "outputs": [],
   "source": [
    "# 1. Импортировать NumPy\n",
    "import numpy as np"
   ]
  },
  {
   "cell_type": "code",
   "execution_count": 2,
   "metadata": {},
   "outputs": [],
   "source": [
    "# 1.1 Создать массив 10 x 10 со случайными значениями от 1 до 100(int64)\n",
    "\n",
    "# 1.2 найти среднее значение всех элементов массива\n",
    "\n",
    "# 1.3 найти среднее значение всех элементов для каждой строки   np.mean()\n",
    "# и добавить как новый столбец\n",
    "\n",
    "# 1.4 найти сумму значение всех элементов для каждого столбца   np.sum()\n",
    "# и добавить как новую строку, учитывая результат 1.3"
   ]
  },
  {
   "cell_type": "code",
   "execution_count": 3,
   "metadata": {},
   "outputs": [
    {
     "data": {
      "text/plain": [
       "array([[56, 11,  5, 90, 57, 96, 54, 78, 62, 52],\n",
       "       [67, 39, 40, 28, 61, 25, 14, 77, 31, 70],\n",
       "       [ 7, 10, 40, 30, 10, 27, 15, 25, 85, 95],\n",
       "       [97, 75, 20, 79, 12, 89, 41, 99, 30, 98],\n",
       "       [66, 13, 13, 66,  9,  5, 67, 75, 14, 72],\n",
       "       [70, 58, 36, 71, 91, 52,  2, 13, 96,  3],\n",
       "       [ 5, 11,  1, 94, 84, 13, 63, 38, 29, 58],\n",
       "       [20, 20, 30, 60,  8, 50, 17, 96, 81, 61],\n",
       "       [70, 94, 49, 72, 15, 77, 40, 10, 17,  1],\n",
       "       [60, 70,  8, 65, 36, 44, 17,  1, 26, 93]], dtype=int64)"
      ]
     },
     "execution_count": 3,
     "metadata": {},
     "output_type": "execute_result"
    }
   ],
   "source": [
    "# 1.1 Массив случайных чисел\n",
    "mass_10_10 = np.random.randint(1, 101, [10, 10], dtype=np.int64)\n",
    "mass_10_10"
   ]
  },
  {
   "cell_type": "code",
   "execution_count": 4,
   "metadata": {},
   "outputs": [
    {
     "data": {
      "text/plain": [
       "45.93"
      ]
     },
     "execution_count": 4,
     "metadata": {},
     "output_type": "execute_result"
    }
   ],
   "source": [
    "## 1.2 Среднее значение всех элементов массива\n",
    "mass_10_10.mean()"
   ]
  },
  {
   "cell_type": "code",
   "execution_count": 5,
   "metadata": {},
   "outputs": [
    {
     "data": {
      "text/plain": [
       "array([[56. , 11. ,  5. , 90. , 57. , 96. , 54. , 78. , 62. , 52. , 56.1],\n",
       "       [67. , 39. , 40. , 28. , 61. , 25. , 14. , 77. , 31. , 70. , 45.2],\n",
       "       [ 7. , 10. , 40. , 30. , 10. , 27. , 15. , 25. , 85. , 95. , 34.4],\n",
       "       [97. , 75. , 20. , 79. , 12. , 89. , 41. , 99. , 30. , 98. , 64. ],\n",
       "       [66. , 13. , 13. , 66. ,  9. ,  5. , 67. , 75. , 14. , 72. , 40. ],\n",
       "       [70. , 58. , 36. , 71. , 91. , 52. ,  2. , 13. , 96. ,  3. , 49.2],\n",
       "       [ 5. , 11. ,  1. , 94. , 84. , 13. , 63. , 38. , 29. , 58. , 39.6],\n",
       "       [20. , 20. , 30. , 60. ,  8. , 50. , 17. , 96. , 81. , 61. , 44.3],\n",
       "       [70. , 94. , 49. , 72. , 15. , 77. , 40. , 10. , 17. ,  1. , 44.5],\n",
       "       [60. , 70. ,  8. , 65. , 36. , 44. , 17. ,  1. , 26. , 93. , 42. ]])"
      ]
     },
     "execution_count": 5,
     "metadata": {},
     "output_type": "execute_result"
    }
   ],
   "source": [
    "mass_10_10_13 = mass_10_10.astype(np.float64)\n",
    "\n",
    "mass_10_10_13 = np.append(mass_10_10_13, mass_10_10.mean(axis = 1).reshape(10,1), axis = 1)\n",
    "mass_10_10_13"
   ]
  },
  {
   "cell_type": "code",
   "execution_count": 6,
   "metadata": {},
   "outputs": [
    {
     "data": {
      "text/plain": [
       "array([[56.1],\n",
       "       [45.2],\n",
       "       [34.4],\n",
       "       [64. ],\n",
       "       [40. ],\n",
       "       [49.2],\n",
       "       [39.6],\n",
       "       [44.3],\n",
       "       [44.5],\n",
       "       [42. ]])"
      ]
     },
     "execution_count": 6,
     "metadata": {},
     "output_type": "execute_result"
    }
   ],
   "source": [
    "# 1.3 Среднее значение по строкам\n",
    "mass_10_10.mean(axis = 1).reshape(10,1)"
   ]
  },
  {
   "cell_type": "code",
   "execution_count": 8,
   "metadata": {},
   "outputs": [
    {
     "data": {
      "text/plain": [
       "array([[ 56. ,  11. ,   5. ,  90. ,  57. ,  96. ,  54. ,  78. ,  62. ,\n",
       "         52. ,  56.1],\n",
       "       [ 67. ,  39. ,  40. ,  28. ,  61. ,  25. ,  14. ,  77. ,  31. ,\n",
       "         70. ,  45.2],\n",
       "       [  7. ,  10. ,  40. ,  30. ,  10. ,  27. ,  15. ,  25. ,  85. ,\n",
       "         95. ,  34.4],\n",
       "       [ 97. ,  75. ,  20. ,  79. ,  12. ,  89. ,  41. ,  99. ,  30. ,\n",
       "         98. ,  64. ],\n",
       "       [ 66. ,  13. ,  13. ,  66. ,   9. ,   5. ,  67. ,  75. ,  14. ,\n",
       "         72. ,  40. ],\n",
       "       [ 70. ,  58. ,  36. ,  71. ,  91. ,  52. ,   2. ,  13. ,  96. ,\n",
       "          3. ,  49.2],\n",
       "       [  5. ,  11. ,   1. ,  94. ,  84. ,  13. ,  63. ,  38. ,  29. ,\n",
       "         58. ,  39.6],\n",
       "       [ 20. ,  20. ,  30. ,  60. ,   8. ,  50. ,  17. ,  96. ,  81. ,\n",
       "         61. ,  44.3],\n",
       "       [ 70. ,  94. ,  49. ,  72. ,  15. ,  77. ,  40. ,  10. ,  17. ,\n",
       "          1. ,  44.5],\n",
       "       [ 60. ,  70. ,   8. ,  65. ,  36. ,  44. ,  17. ,   1. ,  26. ,\n",
       "         93. ,  42. ],\n",
       "       [518. , 401. , 242. , 655. , 383. , 478. , 330. , 512. , 471. ,\n",
       "        603. , 459.3]])"
      ]
     },
     "execution_count": 8,
     "metadata": {},
     "output_type": "execute_result"
    }
   ],
   "source": [
    "# 1.4 Сумма по столбцам\n",
    "\n",
    "# pd.set_option('display.width', 120)\n",
    "# pd.set_option('display.expand_frame_repr', False)\n",
    "np.append(mass_10_10_13, np.sum(mass_10_10_13, axis = 0).reshape(1,11), axis = 0)"
   ]
  },
  {
   "cell_type": "code",
   "execution_count": null,
   "metadata": {},
   "outputs": [],
   "source": [
    "# 2. Создать матрицу 7x7 с значениями 1,2,3,4,5,6,7 по главной диагонали, остальные нули."
   ]
  },
  {
   "cell_type": "code",
   "execution_count": 9,
   "metadata": {},
   "outputs": [
    {
     "data": {
      "text/plain": [
       "array([[1, 0, 0, 0, 0, 0, 0],\n",
       "       [0, 2, 0, 0, 0, 0, 0],\n",
       "       [0, 0, 3, 0, 0, 0, 0],\n",
       "       [0, 0, 0, 4, 0, 0, 0],\n",
       "       [0, 0, 0, 0, 5, 0, 0],\n",
       "       [0, 0, 0, 0, 0, 6, 0],\n",
       "       [0, 0, 0, 0, 0, 0, 7]])"
      ]
     },
     "execution_count": 9,
     "metadata": {},
     "output_type": "execute_result"
    }
   ],
   "source": [
    "np.diag(np.arange(1, 8))"
   ]
  },
  {
   "cell_type": "code",
   "execution_count": null,
   "metadata": {},
   "outputs": [],
   "source": [
    "# 3. Создать случайную матрицу 5x7 целых чисел от 1 до 100 и поменять местами 3 и 5 колонки"
   ]
  },
  {
   "cell_type": "code",
   "execution_count": 10,
   "metadata": {},
   "outputs": [
    {
     "data": {
      "text/plain": [
       "array([[87, 78, 80, 67, 90, 15, 37],\n",
       "       [76, 95, 45, 50, 13, 95, 13],\n",
       "       [73, 82, 37,  4, 73, 53, 24],\n",
       "       [77, 38, 71, 90, 96, 57,  7],\n",
       "       [27, 50, 76, 67, 97, 48, 18]])"
      ]
     },
     "execution_count": 10,
     "metadata": {},
     "output_type": "execute_result"
    }
   ],
   "source": [
    "mass_5_7 = np.random.randint(1, 101, [5, 7])\n",
    "mass_5_7"
   ]
  },
  {
   "cell_type": "code",
   "execution_count": 11,
   "metadata": {},
   "outputs": [
    {
     "data": {
      "text/plain": [
       "array([[87, 78, 90, 67, 80, 15, 37],\n",
       "       [76, 95, 13, 50, 45, 95, 13],\n",
       "       [73, 82, 73,  4, 37, 53, 24],\n",
       "       [77, 38, 96, 90, 71, 57,  7],\n",
       "       [27, 50, 97, 67, 76, 48, 18]])"
      ]
     },
     "execution_count": 11,
     "metadata": {},
     "output_type": "execute_result"
    }
   ],
   "source": [
    "#Вариант с удалением колонок\n",
    "diff_c = mass_5_7[:,2] - mass_5_7[:,4]\n",
    "\n",
    "clm = np.append(mass_5_7[:,2] -  diff_c, mass_5_7[:,3])\n",
    "clm_ = np.append(clm, mass_5_7[:,4] +  diff_c).reshape(3,5)\n",
    "\n",
    "mass_5_7_1 = np.delete(mass_5_7, (2,3,4), 1);\n",
    "\n",
    "np.insert(mass_5_7_1, (2), clm_, 1)"
   ]
  },
  {
   "cell_type": "code",
   "execution_count": 12,
   "metadata": {},
   "outputs": [
    {
     "data": {
      "text/plain": [
       "array([[87, 78, 90, 67, 80, 15, 37],\n",
       "       [76, 95, 13, 50, 45, 95, 13],\n",
       "       [73, 82, 73,  4, 37, 53, 24],\n",
       "       [77, 38, 96, 90, 71, 57,  7],\n",
       "       [27, 50, 97, 67, 76, 48, 18]])"
      ]
     },
     "execution_count": 12,
     "metadata": {},
     "output_type": "execute_result"
    }
   ],
   "source": [
    "#Вариант. Прямое обновление.\n",
    "mass_5_7[:,2] = mass_5_7[:,2] + mass_5_7[:,4]\n",
    "\n",
    "mass_5_7[:,4] =mass_5_7[:,2] -  mass_5_7[:,4]\n",
    "mass_5_7[:,2] = mass_5_7[:,2]  -  mass_5_7[:,4]\n",
    "mass_5_7"
   ]
  }
 ],
 "metadata": {
  "kernelspec": {
   "display_name": "Python 3 (ipykernel)",
   "language": "python",
   "name": "python3"
  },
  "language_info": {
   "codemirror_mode": {
    "name": "ipython",
    "version": 3
   },
   "file_extension": ".py",
   "mimetype": "text/x-python",
   "name": "python",
   "nbconvert_exporter": "python",
   "pygments_lexer": "ipython3",
   "version": "3.12.2"
  }
 },
 "nbformat": 4,
 "nbformat_minor": 4
}
