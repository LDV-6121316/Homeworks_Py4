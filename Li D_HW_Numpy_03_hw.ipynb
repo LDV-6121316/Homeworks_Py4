{
 "cells": [
  {
   "cell_type": "code",
   "execution_count": 1,
   "metadata": {},
   "outputs": [],
   "source": [
    "import numpy as np"
   ]
  },
  {
   "cell_type": "markdown",
   "metadata": {},
   "source": [
    "__Задача 1__\n",
    "\n",
    "Напишите функцию, которая находит сумму четных элементов на главной \n",
    "диагонали квадратной матрицы (именно чётных элементов, а не элементов на чётных позициях!). \n",
    "Если чётных элементов нет, то вывести 0"
   ]
  },
  {
   "cell_type": "code",
   "execution_count": 2,
   "metadata": {},
   "outputs": [
    {
     "name": "stdout",
     "output_type": "stream",
     "text": [
      "matrix2=array([[76, 14, 59, 85, 71, 87, 68, 33, 25, 69],\n",
      "       [47, 35, 69, 53, 69, 14, 94, 16, 71, 92],\n",
      "       [61, 57, 77, 43,  3, 41, 34, 95, 74, 86],\n",
      "       [15, 90, 19, 67,  9,  4, 53, 25, 34, 56],\n",
      "       [ 9, 85, 84, 22, 72, 34, 62, 30, 33, 14],\n",
      "       [23, 85, 93, 41,  6, 37, 26, 92, 37,  9],\n",
      "       [99, 40, 71, 65, 99, 77,  5,  4, 57, 49],\n",
      "       [10, 50, 86, 15, 95, 74, 55, 12, 66, 76],\n",
      "       [86, 50, 88, 46, 66, 40, 82, 75,  8, 32],\n",
      "       [40, 72, 45, 13, 21, 99, 58, 41, 27, 35]])\n",
      "dg=array([76, 35, 77, 67, 72, 37,  5, 12,  8, 35])\n"
     ]
    }
   ],
   "source": [
    "n = 10 \n",
    "matrix2 = np.random.randint(0, n*n, size = (n, n))  # Квадратная матрица, случайные значения\n",
    "# matrix2 = np.arange(n*n).reshape(n,n)  # Квадратная матрица. Значения из диапазона.\n",
    "print(f'{matrix2=}')\n",
    "dg = np.diag(matrix2)\n",
    "print(f'{dg=}')"
   ]
  },
  {
   "cell_type": "code",
   "execution_count": 3,
   "metadata": {},
   "outputs": [
    {
     "name": "stdout",
     "output_type": "stream",
     "text": [
      "Сумма четных элементов главной диагонали =  168\n"
     ]
    }
   ],
   "source": [
    "def summ2dg(dg):\n",
    "    return sum(dg[np.where(dg%2==0)])\n",
    "\n",
    "print('Сумма четных элементов главной диагонали = ', summ2dg(dg))"
   ]
  },
  {
   "cell_type": "code",
   "execution_count": 4,
   "metadata": {},
   "outputs": [
    {
     "name": "stdout",
     "output_type": "stream",
     "text": [
      "Сумма четных элементов главной диагонали =  168\n"
     ]
    }
   ],
   "source": [
    "def summ2dg_v2(dg):\n",
    "    return sum(dg[dg%2==0])\n",
    "\n",
    "print('Сумма четных элементов главной диагонали = ', summ2dg_v2(dg))"
   ]
  },
  {
   "cell_type": "code",
   "execution_count": 5,
   "metadata": {},
   "outputs": [
    {
     "name": "stdout",
     "output_type": "stream",
     "text": [
      "Сумма четных элементов главной диагонали =  168\n"
     ]
    }
   ],
   "source": [
    "#Вариант без функции\n",
    "print('Сумма четных элементов главной диагонали = ', sum(np.diag(matrix2)[np.diag(matrix2)%2==0]))"
   ]
  },
  {
   "cell_type": "markdown",
   "metadata": {},
   "source": [
    "__Задача 2__\n",
    "\n",
    "Решить задачи при условии, что массив может быть любой размерности:\n",
    "\n",
    "2.1 Заменить максимальный элемент массива на 1000. (Повторяющихся максимальных элементов нет)    \n",
    "2.2 Заменить минимальный элемент массива на 0. (Повторяющиеся минимальные элементы есть, поэтому нужно заменить все)"
   ]
  },
  {
   "cell_type": "code",
   "execution_count": 6,
   "metadata": {},
   "outputs": [
    {
     "name": "stdout",
     "output_type": "stream",
     "text": [
      "idx_max=(array([95], dtype=int64), array([32], dtype=int64), array([78], dtype=int64), array([98], dtype=int64))\n",
      "matrix_n[idx_max]=array([0.99999998])\n",
      "matrix_n[idx_max]=array([1000.])\n"
     ]
    }
   ],
   "source": [
    "np.random.seed(777)\n",
    "matrix_n = np.random.random_sample((100,100,100, 100))  # Матрица с уникальными значениями\n",
    "# print(f'{matrix_n=}')\n",
    "\n",
    "# Индекс максимального элемента по всем осям\n",
    "idx_max = np.where(matrix_n == np.max(matrix_n))\n",
    "print(f'{idx_max=}')\n",
    "print(f'{matrix_n[idx_max]=}')\n",
    "\n",
    "# Замена значения\n",
    "matrix_n[idx_max] = 1000 \n",
    "print(f'{matrix_n[idx_max]=}')\n",
    "\n",
    "# Без промежуточной переменной:\n",
    "# matrix_n[np.where(matrix_n == np.max(matrix_n))] = 1000 "
   ]
  },
  {
   "cell_type": "code",
   "execution_count": 8,
   "metadata": {},
   "outputs": [
    {
     "name": "stdout",
     "output_type": "stream",
     "text": [
      "Начальное значения диапазона, для создания массива =  14\n",
      "idx_min=(array([0, 0, 0, 0, 0, 0, 0, 0, 0, 0, 0, 1, 1, 1, 1, 1, 1, 1, 1, 2, 2, 2,\n",
      "       2, 2, 2, 2, 2, 2, 3, 3, 3, 3, 3, 3, 3, 3, 3, 3, 3, 4, 4, 4, 4, 4,\n",
      "       4, 4, 4, 4, 4, 4, 4, 4, 4, 4, 4, 5, 5, 5, 5, 5, 5, 5, 5, 5, 5, 5,\n",
      "       6, 6, 6, 6, 6, 6, 6, 6, 6, 6, 6, 6, 6, 6, 6, 6, 6, 6, 6, 6, 7, 7,\n",
      "       7, 7, 7, 7, 7, 7, 7, 7, 7, 8, 8, 8, 8, 8, 8, 8, 8, 8, 8, 9, 9, 9,\n",
      "       9, 9, 9, 9, 9, 9, 9, 9, 9, 9, 9], dtype=int64), array([0, 1, 1, 4, 4, 4, 5, 7, 7, 7, 9, 0, 1, 1, 5, 6, 8, 9, 9, 0, 0, 1,\n",
      "       1, 2, 3, 5, 7, 7, 0, 1, 2, 2, 4, 5, 6, 6, 7, 7, 8, 0, 0, 1, 1, 1,\n",
      "       2, 2, 2, 2, 3, 4, 7, 8, 8, 8, 8, 1, 1, 2, 3, 4, 6, 6, 7, 8, 8, 9,\n",
      "       1, 2, 2, 3, 3, 3, 4, 4, 4, 4, 5, 5, 5, 6, 6, 6, 7, 8, 8, 9, 2, 3,\n",
      "       4, 5, 6, 7, 7, 7, 8, 8, 9, 0, 1, 1, 2, 3, 5, 5, 5, 8, 9, 0, 2, 5,\n",
      "       5, 5, 6, 6, 6, 7, 7, 7, 8, 9, 9], dtype=int64), array([6, 1, 6, 5, 5, 6, 4, 4, 4, 7, 1, 3, 0, 1, 3, 4, 2, 3, 9, 5, 8, 1,\n",
      "       6, 8, 2, 2, 5, 7, 6, 3, 6, 6, 1, 5, 4, 6, 0, 6, 1, 5, 7, 0, 3, 7,\n",
      "       3, 6, 7, 8, 4, 8, 1, 4, 4, 6, 8, 4, 8, 8, 3, 9, 4, 5, 8, 4, 8, 8,\n",
      "       8, 4, 6, 1, 4, 8, 1, 1, 7, 7, 1, 6, 8, 1, 5, 8, 5, 1, 9, 1, 5, 3,\n",
      "       5, 5, 1, 2, 4, 7, 8, 8, 1, 8, 1, 8, 4, 2, 3, 4, 6, 8, 3, 1, 8, 0,\n",
      "       2, 6, 5, 6, 9, 0, 1, 4, 3, 3, 7], dtype=int64), array([3, 1, 2, 2, 5, 5, 8, 0, 3, 2, 4, 8, 4, 5, 6, 9, 8, 9, 6, 1, 2, 5,\n",
      "       9, 6, 7, 6, 7, 0, 9, 8, 3, 8, 4, 4, 9, 4, 6, 3, 1, 7, 1, 4, 7, 5,\n",
      "       1, 4, 3, 4, 3, 5, 8, 7, 9, 4, 5, 3, 5, 5, 0, 5, 8, 5, 7, 0, 5, 2,\n",
      "       3, 7, 4, 2, 0, 0, 0, 4, 0, 6, 5, 4, 8, 3, 0, 8, 4, 5, 8, 2, 9, 4,\n",
      "       6, 3, 9, 0, 2, 6, 2, 7, 6, 1, 0, 2, 5, 7, 9, 6, 6, 0, 5, 4, 8, 8,\n",
      "       6, 2, 7, 8, 8, 1, 5, 8, 4, 7, 2], dtype=int64))\n",
      "Искомое минимальное значение = 14\n",
      "Проверка равенства массивов отфильтрованного и контрольного. Должен быть ноль = 0\n"
     ]
    }
   ],
   "source": [
    "import random as rnd\n",
    "n = 10\n",
    "np.random.seed(68)\n",
    "# Матрица с случайными значениями\n",
    "# Добавил рандомное начальное значение\n",
    "min_val = rnd.randint((n-1), 2* n)\n",
    "print(f'Начальное значения диапазона, для создания массива = ', min_val)\n",
    "matrix_n_min = np.random.choice(np.arange(min_val, n*n), size = (10, 10, 10, 10))  \n",
    "# print(f'{matrix_n_min = }')\n",
    "\n",
    "# Индексы минимальных значений по всем осям\n",
    "idx_min = np.where(matrix_n_min == np.min(matrix_n_min))\n",
    "print(f'{idx_min=}')\n",
    "print(f'Искомое минимальное значение = {matrix_n_min[idx_min].flat[0]}')\n",
    "\n",
    "# Создание отдельной матрицы минимальных значений\n",
    "# Инверсия контрольного соотношения, для подсчета False\n",
    "mtr_control = ~(matrix_n_min[idx_min] == np.full_like(matrix_n_min[idx_min], min_val))\n",
    "print(f'Проверка равенства массивов отфильтрованного и контрольного. Должен быть ноль = {sum(mtr_control)}')\n",
    "\n",
    "# Обнуляем.\n",
    "matrix_n_min[idx_min] = 0\n"
   ]
  }
 ],
 "metadata": {
  "kernelspec": {
   "display_name": "Python 3 (ipykernel)",
   "language": "python",
   "name": "python3"
  },
  "language_info": {
   "codemirror_mode": {
    "name": "ipython",
    "version": 3
   },
   "file_extension": ".py",
   "mimetype": "text/x-python",
   "name": "python",
   "nbconvert_exporter": "python",
   "pygments_lexer": "ipython3",
   "version": "3.12.2"
  }
 },
 "nbformat": 4,
 "nbformat_minor": 4
}
